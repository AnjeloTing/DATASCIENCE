{
 "cells": [
  {
   "cell_type": "markdown",
   "metadata": {},
   "source": [
    "# Getting data from an API\n",
    "This notebook walks you through some steps in collecting data from Reddit using the Pushshift.io API.\n",
    "\n",
    "We will use the **Python Pushshift.io API Wrapper (PSAW)** which is documented here -> https://psaw.readthedocs.io/en/latest/"
   ]
  },
  {
   "cell_type": "markdown",
   "metadata": {},
   "source": [
    "### Import package\n",
    "This wrapper package allows the searching of public submissions and comments."
   ]
  },
  {
   "cell_type": "code",
   "execution_count": 21,
   "metadata": {},
   "outputs": [
    {
     "name": "stdout",
     "output_type": "stream",
     "text": [
      "https://api.pushshift.io/meta\n"
     ]
    }
   ],
   "source": [
    "from psaw import PushshiftAPI\n",
    "import pandas as pd\n",
    "\n",
    "api = PushshiftAPI()"
   ]
  },
  {
   "cell_type": "markdown",
   "metadata": {},
   "source": [
    "### Get the 5 most recent posts in all of Reddit"
   ]
  },
  {
   "cell_type": "code",
   "execution_count": 22,
   "metadata": {},
   "outputs": [
    {
     "name": "stdout",
     "output_type": "stream",
     "text": [
      "https://api.pushshift.io/reddit/submission/search?limit=5&filter=full_link&filter=author&filter=title&filter=subreddit&filter=created_utc&metadata=true&sort=desc\n"
     ]
    }
   ],
   "source": [
    "posts = api.search_submissions(limit=5, filter=['full_link','author', 'title', 'subreddit', 'created_utc'])\n",
    "results = list(posts)"
   ]
  },
  {
   "cell_type": "code",
   "execution_count": 23,
   "metadata": {},
   "outputs": [
    {
     "data": {
      "text/plain": [
       "submission(author='Tall-Video-2156', created_utc=1615977620, full_link='https://www.reddit.com/r/WidescreenWallpaper/comments/m6xkeo/can_anyone_help_me_find_this_wallpaper/', subreddit='WidescreenWallpaper', title='Can anyone help me find this wallpaper?', created=1615948820.0, d_={'author': 'Tall-Video-2156', 'created_utc': 1615977620, 'full_link': 'https://www.reddit.com/r/WidescreenWallpaper/comments/m6xkeo/can_anyone_help_me_find_this_wallpaper/', 'subreddit': 'WidescreenWallpaper', 'title': 'Can anyone help me find this wallpaper?', 'created': 1615948820.0})"
      ]
     },
     "execution_count": 23,
     "metadata": {},
     "output_type": "execute_result"
    }
   ],
   "source": [
    "results[0]"
   ]
  },
  {
   "cell_type": "markdown",
   "metadata": {},
   "source": [
    "### Get the most recent post from r/philippines"
   ]
  },
  {
   "cell_type": "code",
   "execution_count": 24,
   "metadata": {},
   "outputs": [
    {
     "name": "stdout",
     "output_type": "stream",
     "text": [
      "https://api.pushshift.io/reddit/submission/search?limit=5&subreddit=philippines&filter=full_link&filter=author&filter=title&filter=subreddit&filter=created_utc&metadata=true&sort=desc\n"
     ]
    }
   ],
   "source": [
    "posts = api.search_submissions(limit=5, subreddit=\"philippines\", filter=['full_link','author', 'title', 'subreddit', 'created_utc'])\n",
    "posts_df = pd.DataFrame([thing.d_ for thing in posts])"
   ]
  },
  {
   "cell_type": "code",
   "execution_count": 25,
   "metadata": {},
   "outputs": [
    {
     "data": {
      "text/html": [
       "<div>\n",
       "<style scoped>\n",
       "    .dataframe tbody tr th:only-of-type {\n",
       "        vertical-align: middle;\n",
       "    }\n",
       "\n",
       "    .dataframe tbody tr th {\n",
       "        vertical-align: top;\n",
       "    }\n",
       "\n",
       "    .dataframe thead th {\n",
       "        text-align: right;\n",
       "    }\n",
       "</style>\n",
       "<table border=\"1\" class=\"dataframe\">\n",
       "  <thead>\n",
       "    <tr style=\"text-align: right;\">\n",
       "      <th></th>\n",
       "      <th>author</th>\n",
       "      <th>created_utc</th>\n",
       "      <th>full_link</th>\n",
       "      <th>subreddit</th>\n",
       "      <th>title</th>\n",
       "      <th>created</th>\n",
       "    </tr>\n",
       "  </thead>\n",
       "  <tbody>\n",
       "    <tr>\n",
       "      <th>0</th>\n",
       "      <td>HiromiSai</td>\n",
       "      <td>1615977610</td>\n",
       "      <td>https://www.reddit.com/r/Philippines/comments/...</td>\n",
       "      <td>Philippines</td>\n",
       "      <td>That one outlier</td>\n",
       "      <td>1.615949e+09</td>\n",
       "    </tr>\n",
       "    <tr>\n",
       "      <th>1</th>\n",
       "      <td>tiredlemonade</td>\n",
       "      <td>1615977298</td>\n",
       "      <td>https://www.reddit.com/r/Philippines/comments/...</td>\n",
       "      <td>Philippines</td>\n",
       "      <td>RDO and BIR 1700</td>\n",
       "      <td>1.615948e+09</td>\n",
       "    </tr>\n",
       "    <tr>\n",
       "      <th>2</th>\n",
       "      <td>FooTVph</td>\n",
       "      <td>1615976790</td>\n",
       "      <td>https://www.reddit.com/r/Philippines/comments/...</td>\n",
       "      <td>Philippines</td>\n",
       "      <td>Rico Blanco and Maris, March 17, 2021</td>\n",
       "      <td>1.615948e+09</td>\n",
       "    </tr>\n",
       "    <tr>\n",
       "      <th>3</th>\n",
       "      <td>pleaseris</td>\n",
       "      <td>1615976650</td>\n",
       "      <td>https://www.reddit.com/r/Philippines/comments/...</td>\n",
       "      <td>Philippines</td>\n",
       "      <td>seaweeds!!!! whenever I eat at this unli resto...</td>\n",
       "      <td>1.615948e+09</td>\n",
       "    </tr>\n",
       "    <tr>\n",
       "      <th>4</th>\n",
       "      <td>salmonisafish420</td>\n",
       "      <td>1615975923</td>\n",
       "      <td>https://www.reddit.com/r/Philippines/comments/...</td>\n",
       "      <td>Philippines</td>\n",
       "      <td>If you we're the president of the Philippines,...</td>\n",
       "      <td>1.615947e+09</td>\n",
       "    </tr>\n",
       "  </tbody>\n",
       "</table>\n",
       "</div>"
      ],
      "text/plain": [
       "             author  created_utc  \\\n",
       "0         HiromiSai   1615977610   \n",
       "1     tiredlemonade   1615977298   \n",
       "2           FooTVph   1615976790   \n",
       "3         pleaseris   1615976650   \n",
       "4  salmonisafish420   1615975923   \n",
       "\n",
       "                                           full_link    subreddit  \\\n",
       "0  https://www.reddit.com/r/Philippines/comments/...  Philippines   \n",
       "1  https://www.reddit.com/r/Philippines/comments/...  Philippines   \n",
       "2  https://www.reddit.com/r/Philippines/comments/...  Philippines   \n",
       "3  https://www.reddit.com/r/Philippines/comments/...  Philippines   \n",
       "4  https://www.reddit.com/r/Philippines/comments/...  Philippines   \n",
       "\n",
       "                                               title       created  \n",
       "0                                   That one outlier  1.615949e+09  \n",
       "1                                   RDO and BIR 1700  1.615948e+09  \n",
       "2              Rico Blanco and Maris, March 17, 2021  1.615948e+09  \n",
       "3  seaweeds!!!! whenever I eat at this unli resto...  1.615948e+09  \n",
       "4  If you we're the president of the Philippines,...  1.615947e+09  "
      ]
     },
     "execution_count": 25,
     "metadata": {},
     "output_type": "execute_result"
    }
   ],
   "source": [
    "posts_df"
   ]
  },
  {
   "cell_type": "code",
   "execution_count": 26,
   "metadata": {},
   "outputs": [
    {
     "data": {
      "text/plain": [
       "'https://www.reddit.com/r/Philippines/comments/m6xkbo/that_one_outlier/'"
      ]
     },
     "execution_count": 26,
     "metadata": {},
     "output_type": "execute_result"
    }
   ],
   "source": [
    "posts_df.loc[0, 'full_link']"
   ]
  },
  {
   "cell_type": "markdown",
   "metadata": {},
   "source": [
    "### Get posts from March 11 in r/philippines"
   ]
  },
  {
   "cell_type": "code",
   "execution_count": 27,
   "metadata": {},
   "outputs": [
    {
     "name": "stdout",
     "output_type": "stream",
     "text": [
      "https://api.pushshift.io/reddit/submission/search?limit=10&subreddit=philippines&before=1615420800&filter=full_link&filter=author&filter=title&filter=subreddit&filter=created_utc&metadata=true&sort=desc\n"
     ]
    }
   ],
   "source": [
    "import datetime as dt\n",
    "\n",
    "sub=\"philippines\"\n",
    "start=\"2021-03-11\"\n",
    "\n",
    "start_date=pd.to_datetime(start)\n",
    "\n",
    "start_epoch=int(start_date.timestamp())\n",
    "\n",
    "posts = api.search_submissions(limit=10, \n",
    "                               subreddit=sub, \n",
    "                               before=start_epoch,\n",
    "                               filter=['full_link','author', 'title', 'subreddit', 'created_utc'])\n",
    "posts_df = pd.DataFrame([thing.d_ for thing in posts])"
   ]
  },
  {
   "cell_type": "code",
   "execution_count": 28,
   "metadata": {},
   "outputs": [
    {
     "data": {
      "text/html": [
       "<div>\n",
       "<style scoped>\n",
       "    .dataframe tbody tr th:only-of-type {\n",
       "        vertical-align: middle;\n",
       "    }\n",
       "\n",
       "    .dataframe tbody tr th {\n",
       "        vertical-align: top;\n",
       "    }\n",
       "\n",
       "    .dataframe thead th {\n",
       "        text-align: right;\n",
       "    }\n",
       "</style>\n",
       "<table border=\"1\" class=\"dataframe\">\n",
       "  <thead>\n",
       "    <tr style=\"text-align: right;\">\n",
       "      <th></th>\n",
       "      <th>author</th>\n",
       "      <th>created_utc</th>\n",
       "      <th>full_link</th>\n",
       "      <th>subreddit</th>\n",
       "      <th>title</th>\n",
       "      <th>created</th>\n",
       "    </tr>\n",
       "  </thead>\n",
       "  <tbody>\n",
       "    <tr>\n",
       "      <th>0</th>\n",
       "      <td>Intelligent_Ear3155</td>\n",
       "      <td>1615420404</td>\n",
       "      <td>https://www.reddit.com/r/Philippines/comments/...</td>\n",
       "      <td>Philippines</td>\n",
       "      <td>Cuzette is a good jewelry brand, they offer go...</td>\n",
       "      <td>1.615392e+09</td>\n",
       "    </tr>\n",
       "    <tr>\n",
       "      <th>1</th>\n",
       "      <td>ladyfromthedarkside</td>\n",
       "      <td>1615419908</td>\n",
       "      <td>https://www.reddit.com/r/Philippines/comments/...</td>\n",
       "      <td>Philippines</td>\n",
       "      <td>Makati’s strict implementation of wearing of f...</td>\n",
       "      <td>1.615391e+09</td>\n",
       "    </tr>\n",
       "    <tr>\n",
       "      <th>2</th>\n",
       "      <td>Logical_Ad_3556</td>\n",
       "      <td>1615419483</td>\n",
       "      <td>https://www.reddit.com/r/Philippines/comments/...</td>\n",
       "      <td>Philippines</td>\n",
       "      <td>Hong Kong Toymakers Are Philippines’ New Targe...</td>\n",
       "      <td>1.615391e+09</td>\n",
       "    </tr>\n",
       "    <tr>\n",
       "      <th>3</th>\n",
       "      <td>setardo</td>\n",
       "      <td>1615418893</td>\n",
       "      <td>https://www.reddit.com/r/Philippines/comments/...</td>\n",
       "      <td>Philippines</td>\n",
       "      <td>Early Morning Coconut Trees View - Siargao, Ph...</td>\n",
       "      <td>1.615390e+09</td>\n",
       "    </tr>\n",
       "    <tr>\n",
       "      <th>4</th>\n",
       "      <td>CommunicationFar116</td>\n",
       "      <td>1615418058</td>\n",
       "      <td>https://www.reddit.com/r/Philippines/comments/...</td>\n",
       "      <td>Philippines</td>\n",
       "      <td>Filipino on Guam Musician</td>\n",
       "      <td>1.615389e+09</td>\n",
       "    </tr>\n",
       "    <tr>\n",
       "      <th>5</th>\n",
       "      <td>Reach_Round</td>\n",
       "      <td>1615417483</td>\n",
       "      <td>https://www.reddit.com/r/Philippines/comments/...</td>\n",
       "      <td>Philippines</td>\n",
       "      <td>Crypto to Peso ?</td>\n",
       "      <td>1.615389e+09</td>\n",
       "    </tr>\n",
       "    <tr>\n",
       "      <th>6</th>\n",
       "      <td>VeterinarianDry7601</td>\n",
       "      <td>1615415742</td>\n",
       "      <td>https://www.reddit.com/r/Philippines/comments/...</td>\n",
       "      <td>Philippines</td>\n",
       "      <td>https://app.shopback.com/pK2fNgYuweb</td>\n",
       "      <td>1.615387e+09</td>\n",
       "    </tr>\n",
       "    <tr>\n",
       "      <th>7</th>\n",
       "      <td>luvie06</td>\n",
       "      <td>1615414525</td>\n",
       "      <td>https://www.reddit.com/r/Philippines/comments/...</td>\n",
       "      <td>Philippines</td>\n",
       "      <td>PLS ANSWER I need this for my research :((</td>\n",
       "      <td>1.615386e+09</td>\n",
       "    </tr>\n",
       "    <tr>\n",
       "      <th>8</th>\n",
       "      <td>the_yaya</td>\n",
       "      <td>1615413301</td>\n",
       "      <td>https://www.reddit.com/r/Philippines/comments/...</td>\n",
       "      <td>Philippines</td>\n",
       "      <td>Daily random discussion - Mar 11, 2021</td>\n",
       "      <td>1.615385e+09</td>\n",
       "    </tr>\n",
       "    <tr>\n",
       "      <th>9</th>\n",
       "      <td>threehappypenguins</td>\n",
       "      <td>1615411232</td>\n",
       "      <td>https://www.reddit.com/r/Philippines/comments/...</td>\n",
       "      <td>Philippines</td>\n",
       "      <td>Mail Forwarding Service</td>\n",
       "      <td>1.615382e+09</td>\n",
       "    </tr>\n",
       "  </tbody>\n",
       "</table>\n",
       "</div>"
      ],
      "text/plain": [
       "                author  created_utc  \\\n",
       "0  Intelligent_Ear3155   1615420404   \n",
       "1  ladyfromthedarkside   1615419908   \n",
       "2      Logical_Ad_3556   1615419483   \n",
       "3              setardo   1615418893   \n",
       "4  CommunicationFar116   1615418058   \n",
       "5          Reach_Round   1615417483   \n",
       "6  VeterinarianDry7601   1615415742   \n",
       "7              luvie06   1615414525   \n",
       "8             the_yaya   1615413301   \n",
       "9   threehappypenguins   1615411232   \n",
       "\n",
       "                                           full_link    subreddit  \\\n",
       "0  https://www.reddit.com/r/Philippines/comments/...  Philippines   \n",
       "1  https://www.reddit.com/r/Philippines/comments/...  Philippines   \n",
       "2  https://www.reddit.com/r/Philippines/comments/...  Philippines   \n",
       "3  https://www.reddit.com/r/Philippines/comments/...  Philippines   \n",
       "4  https://www.reddit.com/r/Philippines/comments/...  Philippines   \n",
       "5  https://www.reddit.com/r/Philippines/comments/...  Philippines   \n",
       "6  https://www.reddit.com/r/Philippines/comments/...  Philippines   \n",
       "7  https://www.reddit.com/r/Philippines/comments/...  Philippines   \n",
       "8  https://www.reddit.com/r/Philippines/comments/...  Philippines   \n",
       "9  https://www.reddit.com/r/Philippines/comments/...  Philippines   \n",
       "\n",
       "                                               title       created  \n",
       "0  Cuzette is a good jewelry brand, they offer go...  1.615392e+09  \n",
       "1  Makati’s strict implementation of wearing of f...  1.615391e+09  \n",
       "2  Hong Kong Toymakers Are Philippines’ New Targe...  1.615391e+09  \n",
       "3  Early Morning Coconut Trees View - Siargao, Ph...  1.615390e+09  \n",
       "4                          Filipino on Guam Musician  1.615389e+09  \n",
       "5                                   Crypto to Peso ?  1.615389e+09  \n",
       "6               https://app.shopback.com/pK2fNgYuweb  1.615387e+09  \n",
       "7         PLS ANSWER I need this for my research :((  1.615386e+09  \n",
       "8             Daily random discussion - Mar 11, 2021  1.615385e+09  \n",
       "9                            Mail Forwarding Service  1.615382e+09  "
      ]
     },
     "execution_count": 28,
     "metadata": {},
     "output_type": "execute_result"
    }
   ],
   "source": [
    "posts_df"
   ]
  },
  {
   "cell_type": "code",
   "execution_count": 29,
   "metadata": {},
   "outputs": [],
   "source": [
    "import json\n",
    "\n",
    "result = posts_df.to_json(orient=\"split\")\n",
    "parsed = json.loads(result)\n",
    "json.dumps(parsed, indent=4) \n",
    "with open ('march11.json', 'w') as json_file:\n",
    "    json.dump(parsed, json_file)\n"
   ]
  },
  {
   "cell_type": "code",
   "execution_count": 30,
   "metadata": {},
   "outputs": [
    {
     "name": "stdout",
     "output_type": "stream",
     "text": [
      "https://api.pushshift.io/reddit/submission/search?limit=20&subreddit=philippines&before=1615507200&filter=full_link&filter=author&filter=title&filter=subreddit&filter=created_utc&metadata=true&sort=desc\n"
     ]
    }
   ],
   "source": [
    "import datetime as dt\n",
    "\n",
    "sub=\"philippines\"\n",
    "start=\"2021-03-12\"\n",
    "\n",
    "start_date=pd.to_datetime(start)\n",
    "\n",
    "start_epoch=int(start_date.timestamp())\n",
    "\n",
    "posts = api.search_submissions(limit=20, \n",
    "                               subreddit=sub, \n",
    "                               before=start_epoch,\n",
    "                               filter=['full_link','author', 'title', 'subreddit', 'created_utc'])\n",
    "posts_df = pd.DataFrame([thing.d_ for thing in posts])"
   ]
  },
  {
   "cell_type": "code",
   "execution_count": 11,
   "metadata": {},
   "outputs": [
    {
     "data": {
      "text/html": [
       "<div>\n",
       "<style scoped>\n",
       "    .dataframe tbody tr th:only-of-type {\n",
       "        vertical-align: middle;\n",
       "    }\n",
       "\n",
       "    .dataframe tbody tr th {\n",
       "        vertical-align: top;\n",
       "    }\n",
       "\n",
       "    .dataframe thead th {\n",
       "        text-align: right;\n",
       "    }\n",
       "</style>\n",
       "<table border=\"1\" class=\"dataframe\">\n",
       "  <thead>\n",
       "    <tr style=\"text-align: right;\">\n",
       "      <th></th>\n",
       "      <th>author</th>\n",
       "      <th>created_utc</th>\n",
       "      <th>full_link</th>\n",
       "      <th>subreddit</th>\n",
       "      <th>title</th>\n",
       "      <th>created</th>\n",
       "    </tr>\n",
       "  </thead>\n",
       "  <tbody>\n",
       "    <tr>\n",
       "      <th>0</th>\n",
       "      <td>HackdogDestroyer</td>\n",
       "      <td>1615507085</td>\n",
       "      <td>https://www.reddit.com/r/Philippines/comments/...</td>\n",
       "      <td>Philippines</td>\n",
       "      <td>Para sa pangmabilisang pagkatuto ng Baybayin</td>\n",
       "      <td>1.615478e+09</td>\n",
       "    </tr>\n",
       "    <tr>\n",
       "      <th>1</th>\n",
       "      <td>AngBatas</td>\n",
       "      <td>1615507030</td>\n",
       "      <td>https://www.reddit.com/r/Philippines/comments/...</td>\n",
       "      <td>Philippines</td>\n",
       "      <td>gulaman and rice kayo dyan</td>\n",
       "      <td>1.615478e+09</td>\n",
       "    </tr>\n",
       "    <tr>\n",
       "      <th>2</th>\n",
       "      <td>decadentrebel</td>\n",
       "      <td>1615506980</td>\n",
       "      <td>https://www.reddit.com/r/Philippines/comments/...</td>\n",
       "      <td>Philippines</td>\n",
       "      <td>Two years later, #trashtag no longer holds the...</td>\n",
       "      <td>1.615478e+09</td>\n",
       "    </tr>\n",
       "    <tr>\n",
       "      <th>3</th>\n",
       "      <td>Sensitive_Cycle_679</td>\n",
       "      <td>1615505583</td>\n",
       "      <td>https://www.reddit.com/r/Philippines/comments/...</td>\n",
       "      <td>Philippines</td>\n",
       "      <td>Legal Advice</td>\n",
       "      <td>1.615477e+09</td>\n",
       "    </tr>\n",
       "    <tr>\n",
       "      <th>4</th>\n",
       "      <td>uria046</td>\n",
       "      <td>1615505465</td>\n",
       "      <td>https://www.reddit.com/r/Philippines/comments/...</td>\n",
       "      <td>Philippines</td>\n",
       "      <td>On this day March 12th 2021 marked the first a...</td>\n",
       "      <td>1.615477e+09</td>\n",
       "    </tr>\n",
       "    <tr>\n",
       "      <th>5</th>\n",
       "      <td>Panthercm</td>\n",
       "      <td>1615505391</td>\n",
       "      <td>https://www.reddit.com/r/Philippines/comments/...</td>\n",
       "      <td>Philippines</td>\n",
       "      <td>Philippines: 4 New People’s Army (NPA) rebels ...</td>\n",
       "      <td>1.615477e+09</td>\n",
       "    </tr>\n",
       "    <tr>\n",
       "      <th>6</th>\n",
       "      <td>LecheKaFlan</td>\n",
       "      <td>1615503678</td>\n",
       "      <td>https://www.reddit.com/r/Philippines/comments/...</td>\n",
       "      <td>Philippines</td>\n",
       "      <td>Anti-dam group asks court to stop construction...</td>\n",
       "      <td>1.615475e+09</td>\n",
       "    </tr>\n",
       "    <tr>\n",
       "      <th>7</th>\n",
       "      <td>ConclusionNo9516</td>\n",
       "      <td>1615502417</td>\n",
       "      <td>https://www.reddit.com/r/Philippines/comments/...</td>\n",
       "      <td>Philippines</td>\n",
       "      <td>Please Support po! Panagbenga Festival Kit Unb...</td>\n",
       "      <td>1.615474e+09</td>\n",
       "    </tr>\n",
       "    <tr>\n",
       "      <th>8</th>\n",
       "      <td>fake__username</td>\n",
       "      <td>1615501945</td>\n",
       "      <td>https://www.reddit.com/r/Philippines/comments/...</td>\n",
       "      <td>Philippines</td>\n",
       "      <td>Excellent as per as Duterte govt standard</td>\n",
       "      <td>1.615473e+09</td>\n",
       "    </tr>\n",
       "    <tr>\n",
       "      <th>9</th>\n",
       "      <td>the_yaya</td>\n",
       "      <td>1615499701</td>\n",
       "      <td>https://www.reddit.com/r/Philippines/comments/...</td>\n",
       "      <td>Philippines</td>\n",
       "      <td>Daily random discussion - Mar 12, 2021</td>\n",
       "      <td>1.615471e+09</td>\n",
       "    </tr>\n",
       "    <tr>\n",
       "      <th>10</th>\n",
       "      <td>artheoxd</td>\n",
       "      <td>1615497579</td>\n",
       "      <td>https://www.reddit.com/r/Philippines/comments/...</td>\n",
       "      <td>Philippines</td>\n",
       "      <td>What is with DITO telecommunity?</td>\n",
       "      <td>1.615469e+09</td>\n",
       "    </tr>\n",
       "    <tr>\n",
       "      <th>11</th>\n",
       "      <td>bricked3ds</td>\n",
       "      <td>1615496642</td>\n",
       "      <td>https://www.reddit.com/r/Philippines/comments/...</td>\n",
       "      <td>Philippines</td>\n",
       "      <td>Cool guide for tangs of swords and knives</td>\n",
       "      <td>1.615468e+09</td>\n",
       "    </tr>\n",
       "    <tr>\n",
       "      <th>12</th>\n",
       "      <td>Kateypury</td>\n",
       "      <td>1615494772</td>\n",
       "      <td>https://www.reddit.com/r/Philippines/comments/...</td>\n",
       "      <td>Philippines</td>\n",
       "      <td>Call for participants: Senior High School grad...</td>\n",
       "      <td>1.615466e+09</td>\n",
       "    </tr>\n",
       "    <tr>\n",
       "      <th>13</th>\n",
       "      <td>Far_Two8678</td>\n",
       "      <td>1615494754</td>\n",
       "      <td>https://www.reddit.com/r/Philippines/comments/...</td>\n",
       "      <td>Philippines</td>\n",
       "      <td>Tiktok (rant)</td>\n",
       "      <td>1.615466e+09</td>\n",
       "    </tr>\n",
       "    <tr>\n",
       "      <th>14</th>\n",
       "      <td>Kateypury</td>\n",
       "      <td>1615494462</td>\n",
       "      <td>https://www.reddit.com/r/Philippines/comments/...</td>\n",
       "      <td>Philippines</td>\n",
       "      <td>Call for participants: Senior high school grad...</td>\n",
       "      <td>1.615466e+09</td>\n",
       "    </tr>\n",
       "    <tr>\n",
       "      <th>15</th>\n",
       "      <td>MaharlikaPH_Rust</td>\n",
       "      <td>1615494077</td>\n",
       "      <td>https://www.reddit.com/r/Philippines/comments/...</td>\n",
       "      <td>Philippines</td>\n",
       "      <td>Gumawa kami ng mapa ng Pilipinas sa Rust</td>\n",
       "      <td>1.615465e+09</td>\n",
       "    </tr>\n",
       "    <tr>\n",
       "      <th>16</th>\n",
       "      <td>PeacockForModerator</td>\n",
       "      <td>1615493760</td>\n",
       "      <td>https://www.reddit.com/r/Philippines/comments/...</td>\n",
       "      <td>Philippines</td>\n",
       "      <td>Why is the U.S popular in the Philippines?</td>\n",
       "      <td>1.615465e+09</td>\n",
       "    </tr>\n",
       "    <tr>\n",
       "      <th>17</th>\n",
       "      <td>tryinghardtv</td>\n",
       "      <td>1615493538</td>\n",
       "      <td>https://www.reddit.com/r/Philippines/comments/...</td>\n",
       "      <td>Philippines</td>\n",
       "      <td>Adding flair to my Pancit Canton. How do you d...</td>\n",
       "      <td>1.615465e+09</td>\n",
       "    </tr>\n",
       "    <tr>\n",
       "      <th>18</th>\n",
       "      <td>Gymleaderbill</td>\n",
       "      <td>1615491998</td>\n",
       "      <td>https://www.reddit.com/r/Philippines/comments/...</td>\n",
       "      <td>Philippines</td>\n",
       "      <td>Are you a DDS?</td>\n",
       "      <td>1.615463e+09</td>\n",
       "    </tr>\n",
       "    <tr>\n",
       "      <th>19</th>\n",
       "      <td>El_calamar</td>\n",
       "      <td>1615490910</td>\n",
       "      <td>https://www.reddit.com/r/Philippines/comments/...</td>\n",
       "      <td>Philippines</td>\n",
       "      <td>The sunset from Cebu Island looking over to Ne...</td>\n",
       "      <td>1.615462e+09</td>\n",
       "    </tr>\n",
       "  </tbody>\n",
       "</table>\n",
       "</div>"
      ],
      "text/plain": [
       "                 author  created_utc  \\\n",
       "0      HackdogDestroyer   1615507085   \n",
       "1              AngBatas   1615507030   \n",
       "2         decadentrebel   1615506980   \n",
       "3   Sensitive_Cycle_679   1615505583   \n",
       "4               uria046   1615505465   \n",
       "5             Panthercm   1615505391   \n",
       "6           LecheKaFlan   1615503678   \n",
       "7      ConclusionNo9516   1615502417   \n",
       "8        fake__username   1615501945   \n",
       "9              the_yaya   1615499701   \n",
       "10             artheoxd   1615497579   \n",
       "11           bricked3ds   1615496642   \n",
       "12            Kateypury   1615494772   \n",
       "13          Far_Two8678   1615494754   \n",
       "14            Kateypury   1615494462   \n",
       "15     MaharlikaPH_Rust   1615494077   \n",
       "16  PeacockForModerator   1615493760   \n",
       "17         tryinghardtv   1615493538   \n",
       "18        Gymleaderbill   1615491998   \n",
       "19           El_calamar   1615490910   \n",
       "\n",
       "                                            full_link    subreddit  \\\n",
       "0   https://www.reddit.com/r/Philippines/comments/...  Philippines   \n",
       "1   https://www.reddit.com/r/Philippines/comments/...  Philippines   \n",
       "2   https://www.reddit.com/r/Philippines/comments/...  Philippines   \n",
       "3   https://www.reddit.com/r/Philippines/comments/...  Philippines   \n",
       "4   https://www.reddit.com/r/Philippines/comments/...  Philippines   \n",
       "5   https://www.reddit.com/r/Philippines/comments/...  Philippines   \n",
       "6   https://www.reddit.com/r/Philippines/comments/...  Philippines   \n",
       "7   https://www.reddit.com/r/Philippines/comments/...  Philippines   \n",
       "8   https://www.reddit.com/r/Philippines/comments/...  Philippines   \n",
       "9   https://www.reddit.com/r/Philippines/comments/...  Philippines   \n",
       "10  https://www.reddit.com/r/Philippines/comments/...  Philippines   \n",
       "11  https://www.reddit.com/r/Philippines/comments/...  Philippines   \n",
       "12  https://www.reddit.com/r/Philippines/comments/...  Philippines   \n",
       "13  https://www.reddit.com/r/Philippines/comments/...  Philippines   \n",
       "14  https://www.reddit.com/r/Philippines/comments/...  Philippines   \n",
       "15  https://www.reddit.com/r/Philippines/comments/...  Philippines   \n",
       "16  https://www.reddit.com/r/Philippines/comments/...  Philippines   \n",
       "17  https://www.reddit.com/r/Philippines/comments/...  Philippines   \n",
       "18  https://www.reddit.com/r/Philippines/comments/...  Philippines   \n",
       "19  https://www.reddit.com/r/Philippines/comments/...  Philippines   \n",
       "\n",
       "                                                title       created  \n",
       "0        Para sa pangmabilisang pagkatuto ng Baybayin  1.615478e+09  \n",
       "1                          gulaman and rice kayo dyan  1.615478e+09  \n",
       "2   Two years later, #trashtag no longer holds the...  1.615478e+09  \n",
       "3                                        Legal Advice  1.615477e+09  \n",
       "4   On this day March 12th 2021 marked the first a...  1.615477e+09  \n",
       "5   Philippines: 4 New People’s Army (NPA) rebels ...  1.615477e+09  \n",
       "6   Anti-dam group asks court to stop construction...  1.615475e+09  \n",
       "7   Please Support po! Panagbenga Festival Kit Unb...  1.615474e+09  \n",
       "8           Excellent as per as Duterte govt standard  1.615473e+09  \n",
       "9              Daily random discussion - Mar 12, 2021  1.615471e+09  \n",
       "10                   What is with DITO telecommunity?  1.615469e+09  \n",
       "11          Cool guide for tangs of swords and knives  1.615468e+09  \n",
       "12  Call for participants: Senior High School grad...  1.615466e+09  \n",
       "13                                      Tiktok (rant)  1.615466e+09  \n",
       "14  Call for participants: Senior high school grad...  1.615466e+09  \n",
       "15           Gumawa kami ng mapa ng Pilipinas sa Rust  1.615465e+09  \n",
       "16         Why is the U.S popular in the Philippines?  1.615465e+09  \n",
       "17  Adding flair to my Pancit Canton. How do you d...  1.615465e+09  \n",
       "18                                     Are you a DDS?  1.615463e+09  \n",
       "19  The sunset from Cebu Island looking over to Ne...  1.615462e+09  "
      ]
     },
     "execution_count": 11,
     "metadata": {},
     "output_type": "execute_result"
    }
   ],
   "source": [
    "posts_df"
   ]
  },
  {
   "cell_type": "code",
   "execution_count": 31,
   "metadata": {},
   "outputs": [],
   "source": [
    "result = posts_df.to_json(orient=\"split\")\n",
    "parsed = json.loads(result)\n",
    "json.dumps(parsed, indent=4) \n",
    "with open ('march12.json', 'w') as json_file:\n",
    "    json.dump(parsed, json_file)"
   ]
  },
  {
   "cell_type": "code",
   "execution_count": 40,
   "metadata": {},
   "outputs": [
    {
     "name": "stdout",
     "output_type": "stream",
     "text": [
      "https://api.pushshift.io/reddit/submission/search?limit=5&subreddit=anime&filter=full_link&filter=author&filter=title&filter=subreddit&filter=created_utc&metadata=true&sort=desc\n"
     ]
    }
   ],
   "source": [
    "posts = api.search_submissions(limit=5, subreddit=\"anime\", filter=['full_link','author', 'title', 'subreddit', 'created_utc'])\n",
    "posts_df = pd.DataFrame([thing.d_ for thing in posts])"
   ]
  },
  {
   "cell_type": "code",
   "execution_count": 34,
   "metadata": {},
   "outputs": [
    {
     "data": {
      "text/html": [
       "<div>\n",
       "<style scoped>\n",
       "    .dataframe tbody tr th:only-of-type {\n",
       "        vertical-align: middle;\n",
       "    }\n",
       "\n",
       "    .dataframe tbody tr th {\n",
       "        vertical-align: top;\n",
       "    }\n",
       "\n",
       "    .dataframe thead th {\n",
       "        text-align: right;\n",
       "    }\n",
       "</style>\n",
       "<table border=\"1\" class=\"dataframe\">\n",
       "  <thead>\n",
       "    <tr style=\"text-align: right;\">\n",
       "      <th></th>\n",
       "      <th>author</th>\n",
       "      <th>created_utc</th>\n",
       "      <th>full_link</th>\n",
       "      <th>subreddit</th>\n",
       "      <th>title</th>\n",
       "      <th>created</th>\n",
       "    </tr>\n",
       "  </thead>\n",
       "  <tbody>\n",
       "    <tr>\n",
       "      <th>0</th>\n",
       "      <td>alex_honk1234</td>\n",
       "      <td>1615978093</td>\n",
       "      <td>https://www.reddit.com/r/anime/comments/m6xoie...</td>\n",
       "      <td>anime</td>\n",
       "      <td>Get a life lmao</td>\n",
       "      <td>1.615949e+09</td>\n",
       "    </tr>\n",
       "    <tr>\n",
       "      <th>1</th>\n",
       "      <td>Creative_Service_777</td>\n",
       "      <td>1615977907</td>\n",
       "      <td>https://www.reddit.com/r/anime/comments/m6xmrm...</td>\n",
       "      <td>anime</td>\n",
       "      <td>Anime donut deaths(spoilers)</td>\n",
       "      <td>1.615949e+09</td>\n",
       "    </tr>\n",
       "    <tr>\n",
       "      <th>2</th>\n",
       "      <td>kwassisking</td>\n",
       "      <td>1615977336</td>\n",
       "      <td>https://www.reddit.com/r/anime/comments/m6xi1b...</td>\n",
       "      <td>anime</td>\n",
       "      <td>Anime Rap - Yea or Nay</td>\n",
       "      <td>1.615949e+09</td>\n",
       "    </tr>\n",
       "    <tr>\n",
       "      <th>3</th>\n",
       "      <td>AGN30</td>\n",
       "      <td>1615977335</td>\n",
       "      <td>https://www.reddit.com/r/anime/comments/m6xi19...</td>\n",
       "      <td>anime</td>\n",
       "      <td>Outside me laugh, inside me hurt.</td>\n",
       "      <td>1.615949e+09</td>\n",
       "    </tr>\n",
       "    <tr>\n",
       "      <th>4</th>\n",
       "      <td>quasarlel</td>\n",
       "      <td>1615977205</td>\n",
       "      <td>https://www.reddit.com/r/anime/comments/m6xgze...</td>\n",
       "      <td>anime</td>\n",
       "      <td>They Know What I Like I Guess 🤔</td>\n",
       "      <td>1.615948e+09</td>\n",
       "    </tr>\n",
       "  </tbody>\n",
       "</table>\n",
       "</div>"
      ],
      "text/plain": [
       "                 author  created_utc  \\\n",
       "0         alex_honk1234   1615978093   \n",
       "1  Creative_Service_777   1615977907   \n",
       "2           kwassisking   1615977336   \n",
       "3                 AGN30   1615977335   \n",
       "4             quasarlel   1615977205   \n",
       "\n",
       "                                           full_link subreddit  \\\n",
       "0  https://www.reddit.com/r/anime/comments/m6xoie...     anime   \n",
       "1  https://www.reddit.com/r/anime/comments/m6xmrm...     anime   \n",
       "2  https://www.reddit.com/r/anime/comments/m6xi1b...     anime   \n",
       "3  https://www.reddit.com/r/anime/comments/m6xi19...     anime   \n",
       "4  https://www.reddit.com/r/anime/comments/m6xgze...     anime   \n",
       "\n",
       "                               title       created  \n",
       "0                    Get a life lmao  1.615949e+09  \n",
       "1       Anime donut deaths(spoilers)  1.615949e+09  \n",
       "2             Anime Rap - Yea or Nay  1.615949e+09  \n",
       "3  Outside me laugh, inside me hurt.  1.615949e+09  \n",
       "4    They Know What I Like I Guess 🤔  1.615948e+09  "
      ]
     },
     "execution_count": 34,
     "metadata": {},
     "output_type": "execute_result"
    }
   ],
   "source": [
    "posts_df.head()"
   ]
  },
  {
   "cell_type": "code",
   "execution_count": 41,
   "metadata": {},
   "outputs": [
    {
     "name": "stdout",
     "output_type": "stream",
     "text": [
      "https://api.pushshift.io/reddit/submission/search?limit=10&subreddit=anime&before=1615420800&filter=full_link&filter=author&filter=title&filter=subreddit&filter=created_utc&metadata=true&sort=desc\n"
     ]
    }
   ],
   "source": [
    "sub=\"anime\"\n",
    "start=\"2021-03-11\"\n",
    "\n",
    "start_date=pd.to_datetime(start)\n",
    "\n",
    "start_epoch=int(start_date.timestamp())\n",
    "\n",
    "posts = api.search_submissions(limit=10, \n",
    "                               subreddit=sub, \n",
    "                               before=start_epoch,\n",
    "                               filter=['full_link','author', 'title', 'subreddit', 'created_utc'])\n",
    "posts_dfa = pd.DataFrame([thing.d_ for thing in posts])"
   ]
  },
  {
   "cell_type": "code",
   "execution_count": 42,
   "metadata": {},
   "outputs": [],
   "source": [
    "result = posts_dfa.to_json(orient=\"split\")\n",
    "parsed = json.loads(result)\n",
    "json.dumps(parsed, indent=4) \n",
    "with open ('march11_anime.json', 'w') as json_file:\n",
    "    json.dump(parsed, json_file)"
   ]
  },
  {
   "cell_type": "code",
   "execution_count": 43,
   "metadata": {},
   "outputs": [
    {
     "name": "stdout",
     "output_type": "stream",
     "text": [
      "https://api.pushshift.io/reddit/submission/search?limit=10&subreddit=anime&before=1615507200&filter=full_link&filter=author&filter=title&filter=subreddit&filter=created_utc&metadata=true&sort=desc\n"
     ]
    }
   ],
   "source": [
    "sub=\"anime\"\n",
    "start=\"2021-03-12\"\n",
    "\n",
    "start_date=pd.to_datetime(start)\n",
    "\n",
    "start_epoch=int(start_date.timestamp())\n",
    "\n",
    "posts = api.search_submissions(limit=10, \n",
    "                               subreddit=sub, \n",
    "                               before=start_epoch,\n",
    "                               filter=['full_link','author', 'title', 'subreddit', 'created_utc'])\n",
    "posts_dfa2 = pd.DataFrame([thing.d_ for thing in posts])"
   ]
  },
  {
   "cell_type": "code",
   "execution_count": 44,
   "metadata": {},
   "outputs": [],
   "source": [
    "result = posts_dfa2.to_json(orient=\"split\")\n",
    "parsed = json.loads(result)\n",
    "json.dumps(parsed, indent=4) \n",
    "with open ('march12_anime.json', 'w') as json_file:\n",
    "    json.dump(parsed, json_file)"
   ]
  },
  {
   "cell_type": "code",
   "execution_count": null,
   "metadata": {},
   "outputs": [],
   "source": []
  }
 ],
 "metadata": {
  "kernelspec": {
   "display_name": "Python 3",
   "language": "python",
   "name": "python3"
  },
  "language_info": {
   "codemirror_mode": {
    "name": "ipython",
    "version": 3
   },
   "file_extension": ".py",
   "mimetype": "text/x-python",
   "name": "python",
   "nbconvert_exporter": "python",
   "pygments_lexer": "ipython3",
   "version": "3.7.6"
  }
 },
 "nbformat": 4,
 "nbformat_minor": 5
}
